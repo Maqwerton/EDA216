{
 "cells": [
  {
   "cell_type": "markdown",
   "metadata": {},
   "source": [
    "# EDA216 - Lecture 3\n",
    "\n",
    "During the lectures and exercises we'll try out SQL-code in Jupyter\n",
    "Notebooks, and to do that we begin by evaluating:"
   ]
  },
  {
   "cell_type": "code",
   "execution_count": 1,
   "metadata": {
    "collapsed": true
   },
   "outputs": [],
   "source": [
    "%load_ext sql"
   ]
  },
  {
   "cell_type": "markdown",
   "metadata": {},
   "source": [
    "This time I'll use a database defined for a Stanford course:"
   ]
  },
  {
   "cell_type": "code",
   "execution_count": 2,
   "metadata": {
    "collapsed": false
   },
   "outputs": [
    {
     "data": {
      "text/plain": [
       "u'Connected: None@db02.db'"
      ]
     },
     "execution_count": 2,
     "metadata": {},
     "output_type": "execute_result"
    }
   ],
   "source": [
    "%sql sqlite:///db02.db"
   ]
  },
  {
   "cell_type": "markdown",
   "metadata": {},
   "source": [
    "Everything in the code sections is evaluated\n",
    "as [Python](https://www.python.org/) code (more on that later), but\n",
    "lines beginning with `%sql` will be seen as an SQL statement, and all\n",
    "lines following `%%sql` will also be evaluated as SQL statements.\n",
    "\n",
    "There is a nice SQL tutorial\n",
    "on [techonthenet](https://www.techonthenet.com/sql/index.php), it's a\n",
    "good place to look for details (it has information on various DBMS's).\n",
    "\n",
    "\n",
    "## Joins\n",
    "\n",
    "The following example is taken almost verbatim\n",
    "from [Jennifer Widom](https://www.youtube.com/watch?v=5Myx_X2sWOI)\n",
    "(with some name alterations to comply with the coding conventions I've\n",
    "been using).\n",
    "\n",
    "We have the following schema:"
   ]
  },
  {
   "cell_type": "markdown",
   "metadata": {},
   "source": [
    "~~~~ {.sql}\n",
    "CREATE TABLE colleges(c_name text, state text, enrollment int);\n",
    "CREATE TABLE students(s_id int, s_name text, gpa real, size_hs int);\n",
    "CREATE TABLE applications(s_id int, c_name text, major text, decision text);\n",
    "~~~~\n"
   ]
  },
  {
   "cell_type": "markdown",
   "metadata": {},
   "source": [
    "A typical selection:"
   ]
  },
  {
   "cell_type": "code",
   "execution_count": null,
   "metadata": {
    "collapsed": true
   },
   "outputs": [],
   "source": [
    "%%sql\n",
    "SELECT DISTINCT s_name, major\n",
    "FROM   students s, applications a\n",
    "WHERE  s.s_id = a.s_id"
   ]
  },
  {
   "cell_type": "markdown",
   "metadata": {},
   "source": [
    "The comma in the `FROM` clause gives us a cross join:"
   ]
  },
  {
   "cell_type": "code",
   "execution_count": null,
   "metadata": {
    "collapsed": true
   },
   "outputs": [],
   "source": [
    "%%sql\n",
    "SELECT DISTINCT s_name, major\n",
    "FROM   students s CROSS JOIN applications a\n",
    "WHERE  s.s_id = a.s_id"
   ]
  },
  {
   "cell_type": "markdown",
   "metadata": {},
   "source": [
    "This can be rewritten as a *inner join* on the `s_id`:"
   ]
  },
  {
   "cell_type": "code",
   "execution_count": null,
   "metadata": {
    "collapsed": true
   },
   "outputs": [],
   "source": [
    "%%sql\n",
    "SELECT DISTINCT s_name, major\n",
    "FROM   students s INNER JOIN applications a\n",
    "ON     s.s_id = a.s_id"
   ]
  },
  {
   "cell_type": "markdown",
   "metadata": {},
   "source": [
    "and as `INNER JOIN` is the default join operator, we can omit the\n",
    "`INNER`:"
   ]
  },
  {
   "cell_type": "code",
   "execution_count": null,
   "metadata": {
    "collapsed": true
   },
   "outputs": [],
   "source": [
    "%%sql\n",
    "SELECT DISTINCT s_name, major\n",
    "FROM   students s JOIN applications a\n",
    "ON     s.s_id = a.s_id"
   ]
  },
  {
   "cell_type": "markdown",
   "metadata": {},
   "source": [
    "We can add conditions to our inner joins, we start with another\n",
    "typical cross join:"
   ]
  },
  {
   "cell_type": "code",
   "execution_count": null,
   "metadata": {
    "collapsed": true
   },
   "outputs": [],
   "source": [
    "%%sql\n",
    "SELECT s_name, gpa\n",
    "FROM   students s, applications a\n",
    "WHERE  s.s_id = a.s_id AND\n",
    "       size_hs < 1000 AND\n",
    "       major = 'CS' AND\n",
    "       c_name = 'Stanford'"
   ]
  },
  {
   "cell_type": "markdown",
   "metadata": {},
   "source": [
    "This can be rewritten to a `INNER JOIN` on the id's, and the rest of\n",
    "the condition can be a `WHERE` clause:"
   ]
  },
  {
   "cell_type": "code",
   "execution_count": null,
   "metadata": {
    "collapsed": true
   },
   "outputs": [],
   "source": [
    "%%sql\n",
    "SELECT s_name, gpa\n",
    "FROM   students s JOIN applications a\n",
    "ON     s.s_id = a.s_id\n",
    "WHERE  size_hs < 1000 AND\n",
    "       major = 'CS' AND\n",
    "       c_name = 'Stanford'"
   ]
  },
  {
   "cell_type": "markdown",
   "metadata": {},
   "source": [
    "but we can also put all conditions in the `ON` clause:"
   ]
  },
  {
   "cell_type": "code",
   "execution_count": null,
   "metadata": {
    "collapsed": true
   },
   "outputs": [],
   "source": [
    "%%sql\n",
    "SELECT s_name, gpa\n",
    "FROM   students s JOIN applications a\n",
    "ON     s.s_id = a.s_id AND\n",
    "       size_hs < 1000 AND\n",
    "       major = 'CS' AND\n",
    "       c_name = 'Stanford'"
   ]
  },
  {
   "cell_type": "markdown",
   "metadata": {},
   "source": [
    "It will make little difference, the query engine is supposed to\n",
    "optimize our queries either way.\n",
    "\n",
    "Now let's try with three tables -- we want to see some application\n",
    "information:"
   ]
  },
  {
   "cell_type": "code",
   "execution_count": null,
   "metadata": {
    "collapsed": true
   },
   "outputs": [],
   "source": [
    "%%sql\n",
    "SELECT a.s_id, s_name, gpa, a.c_name, enrollment\n",
    "FROM   applications a, students s, colleges c\n",
    "WHERE  a.s_id = s.s_id AND\n",
    "       a.c_name = c.c_name"
   ]
  },
  {
   "cell_type": "markdown",
   "metadata": {},
   "source": [
    "We can again rewrite this as joins:"
   ]
  },
  {
   "cell_type": "code",
   "execution_count": null,
   "metadata": {
    "collapsed": true
   },
   "outputs": [],
   "source": [
    "%%sql\n",
    "SELECT a.s_id, s_name, gpa, a.c_name, enrollment\n",
    "FROM   applications a JOIN students s JOIN colleges c\n",
    "ON     a.s_id = s.s_id AND\n",
    "       a.c_name = c.c_name"
   ]
  },
  {
   "cell_type": "markdown",
   "metadata": {},
   "source": [
    "## Some other kinds of joins\n",
    "\n",
    "Back to our original query:"
   ]
  },
  {
   "cell_type": "code",
   "execution_count": null,
   "metadata": {
    "collapsed": true
   },
   "outputs": [],
   "source": [
    "%%sql\n",
    "SELECT DISTINCT s_name, major\n",
    "FROM   students s INNER JOIN applications a\n",
    "ON     s.s_id = a.s_id"
   ]
  },
  {
   "cell_type": "markdown",
   "metadata": {},
   "source": [
    "Since our two tables have the attribute `s_id` in common, we can use a\n",
    "*natural join*:"
   ]
  },
  {
   "cell_type": "code",
   "execution_count": null,
   "metadata": {
    "collapsed": true
   },
   "outputs": [],
   "source": [
    "%%sql\n",
    "SELECT DISTINCT s_name, major\n",
    "FROM   students NATURAL JOIN applications"
   ]
  },
  {
   "cell_type": "markdown",
   "metadata": {},
   "source": [
    "The natural join will eliminate the duplicate attributes:"
   ]
  },
  {
   "cell_type": "code",
   "execution_count": null,
   "metadata": {
    "collapsed": true
   },
   "outputs": [],
   "source": [
    "%%sql\n",
    "SELECT *\n",
    "FROM   students NATURAL JOIN applications"
   ]
  },
  {
   "cell_type": "markdown",
   "metadata": {},
   "source": [
    "Observe that there's only one `s_id` in the output.\n",
    "\n",
    "We can use natural joins with more complicated queries:"
   ]
  },
  {
   "cell_type": "code",
   "execution_count": null,
   "metadata": {
    "collapsed": true
   },
   "outputs": [],
   "source": [
    "%%sql\n",
    "SELECT s_name, gpa\n",
    "FROM   students s JOIN applications a\n",
    "ON     s.s_id = a.s_id\n",
    "WHERE  size_hs < 1000 AND\n",
    "       major = 'CS' AND\n",
    "       c_name = 'Stanford'"
   ]
  },
  {
   "cell_type": "markdown",
   "metadata": {},
   "source": [
    "Once again we have a common attribute, so we can write:"
   ]
  },
  {
   "cell_type": "code",
   "execution_count": null,
   "metadata": {
    "collapsed": true
   },
   "outputs": [],
   "source": [
    "%%sql\n",
    "SELECT s_name, gpa\n",
    "FROM   students s NATURAL JOIN applications a\n",
    "WHERE  size_hs < 1000 AND\n",
    "       major = 'CS' AND\n",
    "       c_name = 'Stanford'"
   ]
  },
  {
   "cell_type": "markdown",
   "metadata": {},
   "source": [
    "Using natural join is a bit risky, since we might have other\n",
    "attributes with the same name (it can easily happen over time, if we\n",
    "modify our tables) -- a better way of expressing this is to use a\n",
    "`JOIN` with `USING`:"
   ]
  },
  {
   "cell_type": "code",
   "execution_count": null,
   "metadata": {
    "collapsed": true
   },
   "outputs": [],
   "source": [
    "%%sql\n",
    "SELECT s_name, gpa\n",
    "FROM   students s JOIN applications a USING(s_id)\n",
    "WHERE  size_hs < 1000 AND\n",
    "       major = 'CS' AND\n",
    "       c_name = 'Stanford'"
   ]
  },
  {
   "cell_type": "markdown",
   "metadata": {},
   "source": [
    "Here we explicitly tell what attributes we want to equate.\n",
    "\n",
    "A slightly bigger example -- we want to find all pairs with the same\n",
    "Grade Point Average (GPA):"
   ]
  },
  {
   "cell_type": "code",
   "execution_count": null,
   "metadata": {
    "collapsed": true
   },
   "outputs": [],
   "source": [
    "%%sql\n",
    "SELECT s1.s_id, s1.s_name, s1.gpa, s2.s_id, s2.s_name, s2.gpa\n",
    "FROM   students s1, students s2\n",
    "WHERE  s1.gpa = s2.gpa AND\n",
    "       s1.s_id < s2.s_id"
   ]
  },
  {
   "cell_type": "code",
   "execution_count": null,
   "metadata": {
    "collapsed": true
   },
   "outputs": [],
   "source": [
    "%%sql\n",
    "SELECT s1.s_id, s1.s_name, s1.gpa, s2.s_id, s2.s_name, s2.gpa\n",
    "FROM   students s1 JOIN students s2 USING(gpa)\n",
    "WHERE  s1.s_id < s2.s_id"
   ]
  },
  {
   "cell_type": "markdown",
   "metadata": {},
   "source": [
    "## Outer joins\n",
    "\n",
    "First an inner join to find students with applications:"
   ]
  },
  {
   "cell_type": "code",
   "execution_count": null,
   "metadata": {
    "collapsed": true
   },
   "outputs": [],
   "source": [
    "%%sql\n",
    "SELECT s_name, s_id, c_name, major\n",
    "FROM   students JOIN applications USING (s_id)"
   ]
  },
  {
   "cell_type": "markdown",
   "metadata": {},
   "source": [
    "Now, assume we also want to see those students who hasn't applied, we\n",
    "can do that using a *left outer join*:"
   ]
  },
  {
   "cell_type": "code",
   "execution_count": null,
   "metadata": {
    "collapsed": true
   },
   "outputs": [],
   "source": [
    "%%sql\n",
    "SELECT s_name, s_id, c_name, major\n",
    "FROM   students LEFT OUTER JOIN applications USING (s_id)"
   ]
  },
  {
   "cell_type": "markdown",
   "metadata": {},
   "source": [
    "We still get the rows we got before, but now we also get rows with\n",
    "`NULL`'s in the attributes from the right relation, if there is no row\n",
    "in the right table which corresponds to a row in the left table (i.e.,\n",
    "the `s_id` found in the `students` table has no match in the\n",
    "`applications` table -- the tuples on the left are sometimes called\n",
    "*dangling tuples*).\n",
    "\n",
    "**Question:** *How can we use the `NULL`-padded rows from a left outer\n",
    "join?* (there's an answer at the end)\n",
    "\n",
    "By the way, we can omit the `OUTER` keyword:"
   ]
  },
  {
   "cell_type": "code",
   "execution_count": null,
   "metadata": {
    "collapsed": true
   },
   "outputs": [],
   "source": [
    "%%sql\n",
    "SELECT s_name, s_id, c_name, major\n",
    "FROM   students LEFT JOIN applications USING (s_id)"
   ]
  },
  {
   "cell_type": "markdown",
   "metadata": {},
   "source": [
    "There is a 'natural' version of outer joins ..."
   ]
  },
  {
   "cell_type": "code",
   "execution_count": null,
   "metadata": {
    "collapsed": true
   },
   "outputs": [],
   "source": [
    "%%sql\n",
    "SELECT s_name, s_id, c_name, major\n",
    "FROM   students NATURAL LEFT JOIN applications"
   ]
  },
  {
   "cell_type": "markdown",
   "metadata": {},
   "source": [
    "... but for the same reasons as for inner joins, it's better to\n",
    "explicitly tell on which attribute we're joining (using `USING`).\n",
    "\n",
    "There is a way to get the same result without inner or outer joins,\n",
    "but it requires more code:"
   ]
  },
  {
   "cell_type": "code",
   "execution_count": null,
   "metadata": {
    "collapsed": true
   },
   "outputs": [],
   "source": [
    "%%sql\n",
    "SELECT s_name, s.s_id, c_name, major\n",
    "FROM   students s, applications a\n",
    "WHERE  s.s_id = a.s_id\n",
    "UNION\n",
    "SELECT s_name, s_id, NULL, NULL\n",
    "FROM   students\n",
    "WHERE  s_id NOT IN (SELECT s_id\n",
    "                    FROM   applications)"
   ]
  },
  {
   "cell_type": "markdown",
   "metadata": {},
   "source": [
    "Seing this might help you understand what left outer join actually\n",
    "returns.\n",
    "\n",
    "Now, the opposite problem, we want to see applications with no\n",
    "matching students -- of course we could just swap `students` and\n",
    "`applications` in the query above, but we could also use a *right\n",
    "outer join*:"
   ]
  },
  {
   "cell_type": "code",
   "execution_count": null,
   "metadata": {
    "collapsed": true
   },
   "outputs": [],
   "source": [
    "%%sql\n",
    "SELECT s_name, s_id, c_name, major\n",
    "FROM   students RIGHT JOIN applications USING (s_id)"
   ]
  },
  {
   "cell_type": "markdown",
   "metadata": {},
   "source": [
    "So, right outer joins are not supported in SQLite (yet)\n",
    "\n",
    "There is also a *full outer join*, which combines the left- and the\n",
    "right outer joins:"
   ]
  },
  {
   "cell_type": "code",
   "execution_count": null,
   "metadata": {
    "collapsed": true
   },
   "outputs": [],
   "source": [
    "%%sql\n",
    "SELECT s_name, s_id, c_name, major\n",
    "FROM   students FULL JOIN applications USING (s_id)"
   ]
  },
  {
   "cell_type": "markdown",
   "metadata": {},
   "source": [
    "Of the outer joins, SQLite only supports left outer, the other ones\n",
    "are left out :-).\n",
    "\n",
    "**Answer to the question above:** We can use outer joins to find\n",
    "missing values, e.g., we can find the names of all studens who haven't\n",
    "applied:"
   ]
  },
  {
   "cell_type": "code",
   "execution_count": null,
   "metadata": {
    "collapsed": true
   },
   "outputs": [],
   "source": [
    "%%sql\n",
    "SELECT s_id, s_name\n",
    "FROM   students LEFT JOIN applications USING (s_id)\n",
    "WHERE  c_name IS NULL"
   ]
  },
  {
   "cell_type": "markdown",
   "metadata": {},
   "source": [
    "We do an outer join, and see where the result is padded with `NULL`'s\n",
    "(observe that we have to test it with \"`IS NULL`\").\n",
    "\n",
    "**Exercise:** Find all 'spurious' applications, i.e., applications\n",
    "where the student id doesn't match any student."
   ]
  },
  {
   "cell_type": "code",
   "execution_count": null,
   "metadata": {
    "collapsed": true
   },
   "outputs": [],
   "source": [
    "%%sql\n"
   ]
  }
 ],
 "metadata": {
  "kernelspec": {
   "display_name": "Python 2",
   "language": "python",
   "name": "python2"
  },
  "language_info": {
   "codemirror_mode": {
    "name": "ipython",
    "version": 2
   },
   "file_extension": ".py",
   "mimetype": "text/x-python",
   "name": "python",
   "nbconvert_exporter": "python",
   "pygments_lexer": "ipython2",
   "version": "2.7.12"
  }
 },
 "nbformat": 4,
 "nbformat_minor": 1
}
